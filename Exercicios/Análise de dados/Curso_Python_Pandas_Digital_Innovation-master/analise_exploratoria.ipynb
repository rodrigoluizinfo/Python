{
 "cells": [
  {
   "cell_type": "code",
   "execution_count": 5,
   "id": "d259055c",
   "metadata": {
    "scrolled": true
   },
   "outputs": [
    {
     "name": "stdout",
     "output_type": "stream",
     "text": [
      "#Showing the first five lines\n",
      "  Data Venda Data Envio  ID Loja  ID Produto  ID Cliente       No. Venda  \\\n",
      "0 2008-05-09 2008-05-29      199         384       18839  200805093CS607   \n",
      "1 2008-05-12 2008-05-17      306         384       19051  200805123CS567   \n",
      "2 2008-05-14 2008-05-20      306         384       19052  200805143CS576   \n",
      "3 2008-05-21 2008-05-27      306         384       19052  200805213CS576   \n",
      "4 2008-06-20 2008-06-27      306         384       19053  200806203CS586   \n",
      "\n",
      "   Custo Unitário  Preço Unitário  Quantidade  Valor Desconto  Valor Venda  \\\n",
      "0          348.58           758.0           6             0.0       4548.0   \n",
      "1          348.58           758.0           6             0.0       4548.0   \n",
      "2          348.58           758.0           6             0.0       4548.0   \n",
      "3          348.58           758.0           6             0.0       4548.0   \n",
      "4          348.58           758.0           6             0.0       4548.0   \n",
      "\n",
      "                                 Produto       Fabricante            Marca  \\\n",
      "0  Adventure Works Laptop15.4W M1548 Red  Adventure Works  Adventure Works   \n",
      "1  Adventure Works Laptop15.4W M1548 Red  Adventure Works  Adventure Works   \n",
      "2  Adventure Works Laptop15.4W M1548 Red  Adventure Works  Adventure Works   \n",
      "3  Adventure Works Laptop15.4W M1548 Red  Adventure Works  Adventure Works   \n",
      "4  Adventure Works Laptop15.4W M1548 Red  Adventure Works  Adventure Works   \n",
      "\n",
      "    Classe  Cor  \n",
      "0  Regular  Red  \n",
      "1  Regular  Red  \n",
      "2  Regular  Red  \n",
      "3  Regular  Red  \n",
      "4  Regular  Red  \n",
      "\n",
      "\n",
      "#Showing a total lines and columns\n",
      "(904, 16)\n",
      "\n",
      "\n"
     ]
    }
   ],
   "source": [
    "#Step one: Importing the libraries\n",
    "import pandas as pd\n",
    "import matplotlib.pyplot as plt\n",
    "plt.style.use(\"seaborn\")\n",
    "\n",
    "#Step two: Uploading the file\n",
    "file_name = \"datasets/AdventureWorks.xlsx\"\n",
    "\n",
    "#Step three: Creating the data frame\n",
    "df = pd.read_excel(file_name, engine=\"openpyxl\")\n",
    "\n",
    "print(\"#Showing the first five lines\")\n",
    "print(df.head(5))\n",
    "print(\"\\n\")\n",
    "\n",
    "print(\"#Showing a total lines and columns\")\n",
    "print(df.shape)\n",
    "print(\"\\n\")"
   ]
  },
  {
   "cell_type": "code",
   "execution_count": 21,
   "id": "7352814a",
   "metadata": {},
   "outputs": [
    {
     "name": "stdout",
     "output_type": "stream",
     "text": [
      "Question one:\n",
      "What was the total revenue?\n",
      "\n",
      "\n",
      "Answer: 5984606.1426 \n"
     ]
    }
   ],
   "source": [
    "#Step one: Importing the libraries\n",
    "import pandas as pd\n",
    "import matplotlib.pyplot as plt\n",
    "plt.style.use(\"seaborn\")\n",
    "\n",
    "#Step two: Uploading the file\n",
    "file_name = \"datasets/AdventureWorks.xlsx\"\n",
    "\n",
    "#Step three: Creating the data frame\n",
    "df = pd.read_excel(file_name, engine=\"openpyxl\")\n",
    "\n",
    "print(\"Question one:\")\n",
    "print(\"What was the total revenue?\")\n",
    "print(\"\\n\")\n",
    "receita = df[\"Valor Venda\"].sum()\n",
    "print(\"Answer: {} \" .format(receita))"
   ]
  },
  {
   "cell_type": "code",
   "execution_count": null,
   "id": "099e22c5",
   "metadata": {},
   "outputs": [],
   "source": []
  }
 ],
 "metadata": {
  "kernelspec": {
   "display_name": "Python 3 (ipykernel)",
   "language": "python",
   "name": "python3"
  },
  "language_info": {
   "codemirror_mode": {
    "name": "ipython",
    "version": 3
   },
   "file_extension": ".py",
   "mimetype": "text/x-python",
   "name": "python",
   "nbconvert_exporter": "python",
   "pygments_lexer": "ipython3",
   "version": "3.9.12"
  }
 },
 "nbformat": 4,
 "nbformat_minor": 5
}
