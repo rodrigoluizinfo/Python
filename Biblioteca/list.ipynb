{
 "cells": [
  {
   "cell_type": "code",
   "execution_count": 6,
   "id": "a5af4d73-ee9a-4baf-b4ab-f344b5744f8c",
   "metadata": {},
   "outputs": [
    {
     "name": "stdout",
     "output_type": "stream",
     "text": [
      "fox\n",
      "celta\n",
      "onix\n"
     ]
    }
   ],
   "source": [
    "#Access direct\n",
    "#Acesso direto\n",
    "carros = [\"fox\", \"celta\", \"onix\"]\n",
    "\n",
    "print(carros[0])\n",
    "print(carros[1])\n",
    "print(carros[2])"
   ]
  },
  {
   "cell_type": "code",
   "execution_count": 8,
   "id": "7cbe0094-30cd-40d3-ad0e-207616343ab9",
   "metadata": {},
   "outputs": [
    {
     "name": "stdout",
     "output_type": "stream",
     "text": [
      "jeep\n",
      "onix\n",
      "amarok\n"
     ]
    }
   ],
   "source": [
    "#Index negative\n",
    "#Índice negativo\n",
    "carros = [\"fox\", \"celta\", \"onix\", \"amarok\", \"jeep\"]\n",
    "\n",
    "print(carros[-1])\n",
    "print(carros[-3])\n",
    "print(carros[-2])"
   ]
  },
  {
   "cell_type": "code",
   "execution_count": 9,
   "id": "c6ec3911-f0f1-4599-a65c-85bf5588c4a4",
   "metadata": {},
   "outputs": [
    {
     "name": "stdout",
     "output_type": "stream",
     "text": [
      "[1, 'a', 2]\n",
      "1\n",
      "2\n",
      "c\n"
     ]
    }
   ],
   "source": [
    "#Lines nested\n",
    "#Linha aninhadas\n",
    "matriz = [\n",
    " [1, \"a\", 2],\n",
    " [\"b\", 3, 4],\n",
    " [6, 5, \"c\"]\n",
    "]\n",
    "\n",
    "print(matriz[0])\n",
    "print(matriz[0][0])\n",
    "print(matriz[0][-1])\n",
    "print(matriz[-1][-1])"
   ]
  },
  {
   "cell_type": "code",
   "execution_count": 11,
   "id": "eb094a29-bfcd-4321-898b-68f48a95970c",
   "metadata": {},
   "outputs": [
    {
     "name": "stdout",
     "output_type": "stream",
     "text": [
      "['t', 'h', 'o', 'n']\n",
      "['p', 'y']\n",
      "['y', 't']\n",
      "['p', 't']\n",
      "['p', 'y', 't', 'h', 'o', 'n']\n",
      "['n', 'o', 'h', 't', 'y', 'p']\n"
     ]
    }
   ],
   "source": [
    "lista = [\"p\", \"y\", \"t\", \"h\", \"o\", \"n\"]\n",
    "\n",
    "print(lista[2:])\n",
    "print(lista[:2])\n",
    "print(lista[1:3])\n",
    "print(lista[0:3:2])\n",
    "print(lista[::])\n",
    "print(lista[::-1])"
   ]
  },
  {
   "cell_type": "code",
   "execution_count": 13,
   "id": "3ff8ba1a-be86-4a91-9be1-2f9a8303773e",
   "metadata": {},
   "outputs": [
    {
     "name": "stdout",
     "output_type": "stream",
     "text": [
      "gol\n",
      "celta\n",
      "palio\n"
     ]
    }
   ],
   "source": [
    "carros = [\"gol\", \"celta\", \"palio\"]\n",
    "\n",
    "for carro in carros:\n",
    "    print(carro)"
   ]
  },
  {
   "cell_type": "code",
   "execution_count": 18,
   "id": "ecc3eec9-da09-4157-9b01-b11795f63c7e",
   "metadata": {},
   "outputs": [
    {
     "name": "stdout",
     "output_type": "stream",
     "text": [
      "0: fox\n",
      "1: celta\n",
      "2: onix\n"
     ]
    }
   ],
   "source": [
    "carros = [\"fox\", \"celta\", \"onix\"]\n",
    "\n",
    "for indice, carro in enumerate(carros):\n",
    "    #print(f\"{indice}: {carro}\")\n",
    "    print(\"{indice}: {carro}\" .format(indice=indice, carro=carro))#Another way"
   ]
  },
  {
   "cell_type": "code",
   "execution_count": 19,
   "id": "c5fad7e6-4262-426c-afb5-aec875c5c644",
   "metadata": {},
   "outputs": [
    {
     "name": "stdout",
     "output_type": "stream",
     "text": [
      "['apple', 'banana', 'cherry', 'Orange']\n"
     ]
    }
   ],
   "source": [
    "thislist = [\"apple\", \"banana\", \"cherry\"]\n",
    "\n",
    "thislist.append(\"Orange\") #Using the append() method to append an item\n",
    "print(thislist)"
   ]
  },
  {
   "cell_type": "code",
   "execution_count": 22,
   "id": "d9a66646-d624-41f9-b580-756e869ed03b",
   "metadata": {},
   "outputs": [
    {
     "name": "stdout",
     "output_type": "stream",
     "text": [
      "[1, 900, 441, 4, 81, 4225, 1156]\n"
     ]
    }
   ],
   "source": [
    "numeros = [1,30, 21, 2, 9, 65, 34]\n",
    "quadrado = []\n",
    "\n",
    "for numero in numeros:\n",
    "    quadrado.append(numero ** 2)#All values in the list quadrado was elevated per 2 and addinded\n",
    "    \n",
    "print(quadrado)"
   ]
  },
  {
   "cell_type": "code",
   "execution_count": null,
   "id": "b45f1810-9dd9-4f94-8eb6-34eed601abda",
   "metadata": {},
   "outputs": [],
   "source": []
  }
 ],
 "metadata": {
  "kernelspec": {
   "display_name": "Python 3 (ipykernel)",
   "language": "python",
   "name": "python3"
  },
  "language_info": {
   "codemirror_mode": {
    "name": "ipython",
    "version": 3
   },
   "file_extension": ".py",
   "mimetype": "text/x-python",
   "name": "python",
   "nbconvert_exporter": "python",
   "pygments_lexer": "ipython3",
   "version": "3.9.12"
  }
 },
 "nbformat": 4,
 "nbformat_minor": 5
}
